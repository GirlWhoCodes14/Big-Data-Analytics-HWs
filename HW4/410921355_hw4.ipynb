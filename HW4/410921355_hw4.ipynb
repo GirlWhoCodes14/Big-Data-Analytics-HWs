{
  "cells": [
    {
      "cell_type": "markdown",
      "source": [
        "Alexis Ayuso\n",
        "\n",
        "410921355\n",
        "\n",
        "HW4: Introduction to Big Data Analytics"
      ],
      "metadata": {
        "id": "YCOmzW2LZpn_"
      }
    },
    {
      "cell_type": "markdown",
      "metadata": {
        "id": "Sh3Uh5HVVHN4"
      },
      "source": [
        "TASK 1: Create a version of bible.txt with words in uppercase. Save it as bible_uppercase.txt"
      ]
    },
    {
      "cell_type": "code",
      "execution_count": 24,
      "metadata": {
        "id": "4F-EoDHyVHN5"
      },
      "outputs": [],
      "source": [
        "# open \"bible.txt\" file in read mode\n",
        "with open(\"bible.txt\", \"r\") as data_file:  \n",
        "    # open \"bible_uppercase.txt\" file in write mode\n",
        "    with open(\"bible_uppercase.txt\", \"w\") as output_file:\n",
        "        # change case for the line and write it into output file\n",
        "        output_file.write(data_file.read().upper())"
      ]
    },
    {
      "cell_type": "markdown",
      "metadata": {
        "id": "nGsyx-VXVHN5"
      },
      "source": [
        "TASK 2: Count words in the bible_uppercase.txt by using for loop."
      ]
    },
    {
      "cell_type": "code",
      "execution_count": 25,
      "metadata": {
        "id": "ekCeXo3zVHN5",
        "colab": {
          "base_uri": "https://localhost:8080/"
        },
        "outputId": "63ca0a7a-f62c-4ad2-f4b9-5461b11682b3"
      },
      "outputs": [
        {
          "output_type": "stream",
          "name": "stdout",
          "text": [
            "Word count using For Loop:  766111\n"
          ]
        }
      ],
      "source": [
        "nWords = 0 # create variable to store the number of words\n",
        "\n",
        "with open(\"bible_uppercase.txt\", \"r\") as file:\n",
        "    # loops through bible_uppercase.txt until the end of file\n",
        "    for line in file: \n",
        "        words = line.split() # splits each line into words \n",
        "        nWords += len(words) # counts each word\n",
        "        \n",
        "print(\"Word count using For Loop: \", nWords)"
      ]
    },
    {
      "cell_type": "markdown",
      "source": [
        "NOTE: The following function is used to complete Task 3 and 4.\n",
        "\n",
        "Function: to count the number of words in a line"
      ],
      "metadata": {
        "id": "IRsjWstzXikn"
      }
    },
    {
      "cell_type": "code",
      "execution_count": 26,
      "metadata": {
        "id": "X_vsNh4NVHN6"
      },
      "outputs": [],
      "source": [
        "def word_count_per_line(lines):\n",
        "    words = lines.split() # splits each line into words\n",
        "    return len(words) # returns the number of words in the line"
      ]
    },
    {
      "cell_type": "markdown",
      "metadata": {
        "id": "m0yQsslWVHN6"
      },
      "source": [
        "TASK 3: Count words in the bible_uppercase.txt by using map."
      ]
    },
    {
      "cell_type": "code",
      "source": [
        "with open(\"bible_uppercase.txt\", \"r\") as file:\n",
        "    lines = file.read().split('\\n') # splits up the file into lines\n",
        "    mapWordCount = sum(list(map(word_count_per_line, lines))) # sum of the word count of each line\n",
        "    print(\"Word Count using Map: \", mapWordCount)"
      ],
      "metadata": {
        "colab": {
          "base_uri": "https://localhost:8080/"
        },
        "id": "LX5xeilcXe-q",
        "outputId": "5168c997-55f4-43ee-fbd6-410f3be7b6ed"
      },
      "execution_count": 27,
      "outputs": [
        {
          "output_type": "stream",
          "name": "stdout",
          "text": [
            "Word Count using Map:  766111\n"
          ]
        }
      ]
    },
    {
      "cell_type": "markdown",
      "metadata": {
        "id": "OMDHoQT_VHN6"
      },
      "source": [
        "TASK 4: Count words in the bible_uppercase.txt with parallel implementation by using a Python’s multiprocessing API."
      ]
    },
    {
      "cell_type": "code",
      "execution_count": 28,
      "metadata": {
        "id": "LC3y2V8AVHOA",
        "colab": {
          "base_uri": "https://localhost:8080/"
        },
        "outputId": "bd4feff9-3c5b-4953-ff7c-ccb6b8553dcc"
      },
      "outputs": [
        {
          "output_type": "stream",
          "name": "stdout",
          "text": [
            "Word Count using Multiprocessing:  766111\n"
          ]
        }
      ],
      "source": [
        "from multiprocessing import Pool\n",
        "\n",
        "if __name__ == '__main__': # confirms that the code is under main function\n",
        "  with open(\"bible_uppercase.txt\", \"r\") as file:\n",
        "      lines = file.read().split('\\n') # splits up the file into lines\n",
        "\n",
        "      with Pool(5) as p: # # create and configure the process pool to 5\n",
        "        wordCounts = p.map(word_count_per_line, lines)\n",
        "        poolWordCount = sum(list((wordCounts))) # sum of the word count of each line\n",
        "      print(\"Word Count using Multiprocessing: \", poolWordCount)"
      ]
    }
  ],
  "metadata": {
    "kernelspec": {
      "display_name": "Python 3",
      "language": "python",
      "name": "python3"
    },
    "language_info": {
      "codemirror_mode": {
        "name": "ipython",
        "version": 3
      },
      "file_extension": ".py",
      "mimetype": "text/x-python",
      "name": "python",
      "nbconvert_exporter": "python",
      "pygments_lexer": "ipython3",
      "version": "3.10.5"
    },
    "orig_nbformat": 4,
    "colab": {
      "provenance": []
    }
  },
  "nbformat": 4,
  "nbformat_minor": 0
}